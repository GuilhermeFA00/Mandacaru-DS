{
 "cells": [
  {
   "cell_type": "code",
   "execution_count": 1,
   "id": "06140b68",
   "metadata": {},
   "outputs": [],
   "source": [
    "#Importação da biblioteca Pandas para manipulação dos dados\n",
    "import pandas as pd"
   ]
  },
  {
   "cell_type": "code",
   "execution_count": 2,
   "id": "ae9f2d3a",
   "metadata": {},
   "outputs": [
    {
     "data": {
      "text/html": [
       "<div>\n",
       "<style scoped>\n",
       "    .dataframe tbody tr th:only-of-type {\n",
       "        vertical-align: middle;\n",
       "    }\n",
       "\n",
       "    .dataframe tbody tr th {\n",
       "        vertical-align: top;\n",
       "    }\n",
       "\n",
       "    .dataframe thead th {\n",
       "        text-align: right;\n",
       "    }\n",
       "</style>\n",
       "<table border=\"1\" class=\"dataframe\">\n",
       "  <thead>\n",
       "    <tr style=\"text-align: right;\">\n",
       "      <th></th>\n",
       "      <th>Unnamed: 0</th>\n",
       "      <th>col_0</th>\n",
       "      <th>col_1</th>\n",
       "      <th>col_2</th>\n",
       "      <th>col_3</th>\n",
       "      <th>col_4</th>\n",
       "      <th>col_5</th>\n",
       "      <th>col_6</th>\n",
       "      <th>col_7</th>\n",
       "      <th>col_8</th>\n",
       "      <th>...</th>\n",
       "      <th>col_103</th>\n",
       "      <th>col_104</th>\n",
       "      <th>col_105</th>\n",
       "      <th>col_106</th>\n",
       "      <th>col_107</th>\n",
       "      <th>col_108</th>\n",
       "      <th>col_109</th>\n",
       "      <th>col_110</th>\n",
       "      <th>col_111</th>\n",
       "      <th>targets</th>\n",
       "    </tr>\n",
       "  </thead>\n",
       "  <tbody>\n",
       "    <tr>\n",
       "      <th>0</th>\n",
       "      <td>0</td>\n",
       "      <td>9</td>\n",
       "      <td>1354</td>\n",
       "      <td>0</td>\n",
       "      <td>18</td>\n",
       "      <td>0</td>\n",
       "      <td>1</td>\n",
       "      <td>7</td>\n",
       "      <td>9</td>\n",
       "      <td>0</td>\n",
       "      <td>...</td>\n",
       "      <td>0</td>\n",
       "      <td>0</td>\n",
       "      <td>0</td>\n",
       "      <td>1</td>\n",
       "      <td>1</td>\n",
       "      <td>0</td>\n",
       "      <td>0</td>\n",
       "      <td>0</td>\n",
       "      <td>49</td>\n",
       "      <td>1</td>\n",
       "    </tr>\n",
       "    <tr>\n",
       "      <th>1</th>\n",
       "      <td>1</td>\n",
       "      <td>0</td>\n",
       "      <td>239</td>\n",
       "      <td>0</td>\n",
       "      <td>1</td>\n",
       "      <td>0</td>\n",
       "      <td>1</td>\n",
       "      <td>0</td>\n",
       "      <td>0</td>\n",
       "      <td>0</td>\n",
       "      <td>...</td>\n",
       "      <td>0</td>\n",
       "      <td>1</td>\n",
       "      <td>0</td>\n",
       "      <td>0</td>\n",
       "      <td>0</td>\n",
       "      <td>0</td>\n",
       "      <td>0</td>\n",
       "      <td>0</td>\n",
       "      <td>55</td>\n",
       "      <td>1</td>\n",
       "    </tr>\n",
       "    <tr>\n",
       "      <th>2</th>\n",
       "      <td>2</td>\n",
       "      <td>0</td>\n",
       "      <td>260</td>\n",
       "      <td>0</td>\n",
       "      <td>4</td>\n",
       "      <td>0</td>\n",
       "      <td>3</td>\n",
       "      <td>6</td>\n",
       "      <td>0</td>\n",
       "      <td>0</td>\n",
       "      <td>...</td>\n",
       "      <td>0</td>\n",
       "      <td>0</td>\n",
       "      <td>0</td>\n",
       "      <td>1</td>\n",
       "      <td>1</td>\n",
       "      <td>0</td>\n",
       "      <td>0</td>\n",
       "      <td>0</td>\n",
       "      <td>56</td>\n",
       "      <td>1</td>\n",
       "    </tr>\n",
       "    <tr>\n",
       "      <th>3</th>\n",
       "      <td>3</td>\n",
       "      <td>17</td>\n",
       "      <td>682</td>\n",
       "      <td>0</td>\n",
       "      <td>1</td>\n",
       "      <td>0</td>\n",
       "      <td>0</td>\n",
       "      <td>8</td>\n",
       "      <td>17</td>\n",
       "      <td>0</td>\n",
       "      <td>...</td>\n",
       "      <td>0</td>\n",
       "      <td>1</td>\n",
       "      <td>0</td>\n",
       "      <td>1</td>\n",
       "      <td>1</td>\n",
       "      <td>0</td>\n",
       "      <td>0</td>\n",
       "      <td>0</td>\n",
       "      <td>65</td>\n",
       "      <td>1</td>\n",
       "    </tr>\n",
       "    <tr>\n",
       "      <th>4</th>\n",
       "      <td>4</td>\n",
       "      <td>1</td>\n",
       "      <td>540</td>\n",
       "      <td>0</td>\n",
       "      <td>2</td>\n",
       "      <td>0</td>\n",
       "      <td>1</td>\n",
       "      <td>7</td>\n",
       "      <td>1</td>\n",
       "      <td>0</td>\n",
       "      <td>...</td>\n",
       "      <td>0</td>\n",
       "      <td>0</td>\n",
       "      <td>0</td>\n",
       "      <td>1</td>\n",
       "      <td>1</td>\n",
       "      <td>0</td>\n",
       "      <td>0</td>\n",
       "      <td>0</td>\n",
       "      <td>175</td>\n",
       "      <td>1</td>\n",
       "    </tr>\n",
       "  </tbody>\n",
       "</table>\n",
       "<p>5 rows × 114 columns</p>\n",
       "</div>"
      ],
      "text/plain": [
       "   Unnamed: 0  col_0  col_1  col_2  col_3  col_4  col_5  col_6  col_7  col_8  \\\n",
       "0           0      9   1354      0     18      0      1      7      9      0   \n",
       "1           1      0    239      0      1      0      1      0      0      0   \n",
       "2           2      0    260      0      4      0      3      6      0      0   \n",
       "3           3     17    682      0      1      0      0      8     17      0   \n",
       "4           4      1    540      0      2      0      1      7      1      0   \n",
       "\n",
       "   ...  col_103  col_104  col_105  col_106  col_107  col_108  col_109  \\\n",
       "0  ...        0        0        0        1        1        0        0   \n",
       "1  ...        0        1        0        0        0        0        0   \n",
       "2  ...        0        0        0        1        1        0        0   \n",
       "3  ...        0        1        0        1        1        0        0   \n",
       "4  ...        0        0        0        1        1        0        0   \n",
       "\n",
       "   col_110  col_111  targets  \n",
       "0        0       49        1  \n",
       "1        0       55        1  \n",
       "2        0       56        1  \n",
       "3        0       65        1  \n",
       "4        0      175        1  \n",
       "\n",
       "[5 rows x 114 columns]"
      ]
     },
     "execution_count": 2,
     "metadata": {},
     "output_type": "execute_result"
    }
   ],
   "source": [
    "#Criando o dataframe\n",
    "dt = pd.read_csv(\"fraud_detection_bank_dataset.csv\")\n",
    "\n",
    "#Prévia vizualização do dataframe\n",
    "dt.head()"
   ]
  },
  {
   "cell_type": "code",
   "execution_count": 3,
   "id": "e8c193c5",
   "metadata": {},
   "outputs": [],
   "source": [
    "#X é um objeto(uma matriz, subconjunto da matriz do dataframe completo) que representa as features independentes, excluindo a variável alvo(\"target\") \n",
    "X = dt.drop([\"targets\"], axis=1).values\n",
    "#y é um vetor dos valores alvo, sendo os valores que você quer tentar prever.\n",
    "y= dt[\"targets\"].values"
   ]
  },
  {
   "cell_type": "code",
   "execution_count": 4,
   "id": "89c3b7ac",
   "metadata": {},
   "outputs": [],
   "source": [
    "#Primeiro estimador, regressão logística(Aprendizado supervisionado)\n",
    "#Importação\n",
    "from sklearn.linear_model import LogisticRegression"
   ]
  },
  {
   "cell_type": "code",
   "execution_count": 5,
   "id": "69824af9",
   "metadata": {},
   "outputs": [],
   "source": [
    "#Train/Test procedimento\n",
    "#Importando método da biblioteca sklearn para a divisão de vetores ou matrizes em subconjuntos aleatórios de treino e teste\n",
    "from sklearn.model_selection import train_test_split\n",
    "\n",
    "#O subconjunto de treino é utilizado para ajustar o modelo de ML.\n",
    "#O subconjunto de dados de teste é utilizado para avaliar o modelo de ML adequado.\n",
    "X_train, X_test, y_train, y_test = train_test_split(X, y,\n",
    "    test_size=0.2, shuffle = True, random_state = 0)\n",
    "\n",
    "#Processo de validação e avaliação dos dados\n",
    "X_train, X_val, y_train, y_val = train_test_split(X_train, y_train, \n",
    "    test_size=0.25, random_state= 0)"
   ]
  },
  {
   "cell_type": "code",
   "execution_count": 6,
   "id": "420ff95f",
   "metadata": {},
   "outputs": [],
   "source": [
    "#Dimesionamento dos dados do modelo de regressão logística\n",
    "from sklearn.preprocessing import StandardScaler\n",
    "\n",
    "scaler = StandardScaler()\n",
    "scaler.fit(X_train)\n",
    "\n",
    "X_train = scaler.transform(X_train)\n",
    "X_test = scaler.transform(X_test)\n",
    "\n",
    "#Criação e ajuste do modelo\n",
    "model = LogisticRegression(solver = \"liblinear\")\n",
    "model.fit(X_train, y_train)\n",
    "\n",
    "y_pred = model.predict(X_test)"
   ]
  },
  {
   "cell_type": "code",
   "execution_count": 7,
   "id": "18338cc5",
   "metadata": {},
   "outputs": [
    {
     "name": "stderr",
     "output_type": "stream",
     "text": [
      "c:\\users\\usuario\\appdata\\local\\programs\\python\\python39-32\\lib\\site-packages\\sklearn\\svm\\_base.py:985: ConvergenceWarning: Liblinear failed to converge, increase the number of iterations.\n",
      "  warnings.warn(\"Liblinear failed to converge, increase \"\n",
      "c:\\users\\usuario\\appdata\\local\\programs\\python\\python39-32\\lib\\site-packages\\sklearn\\svm\\_base.py:985: ConvergenceWarning: Liblinear failed to converge, increase the number of iterations.\n",
      "  warnings.warn(\"Liblinear failed to converge, increase \"\n",
      "c:\\users\\usuario\\appdata\\local\\programs\\python\\python39-32\\lib\\site-packages\\sklearn\\svm\\_base.py:985: ConvergenceWarning: Liblinear failed to converge, increase the number of iterations.\n",
      "  warnings.warn(\"Liblinear failed to converge, increase \"\n"
     ]
    },
    {
     "name": "stdout",
     "output_type": "stream",
     "text": [
      "0.90 de precisão com um desvio padrão de 0.01\n"
     ]
    }
   ],
   "source": [
    "#Validação cruzada\n",
    "from sklearn.model_selection import cross_val_score, KFold\n",
    "\n",
    "Kfold = KFold(n_splits = 10, shuffle=True, random_state = 0)\n",
    "scores = cross_val_score(model, X, y, cv = Kfold)\n",
    "\n",
    "print(\"%0.2f de precisão com um desvio padrão de %0.2f\" % (scores.mean(), scores.std()))"
   ]
  },
  {
   "cell_type": "code",
   "execution_count": 8,
   "id": "80eb182d",
   "metadata": {},
   "outputs": [
    {
     "name": "stdout",
     "output_type": "stream",
     "text": [
      "0.7281387396189546\n",
      "0.9946262823644357\n"
     ]
    }
   ],
   "source": [
    "#Análise de resultados obtidos no processo de validação e teste do modelo de regressão logística\n",
    "\n",
    "print(model.score(X_val, y_val))\n",
    "\n",
    "print(model.score(X_test, y_test))"
   ]
  },
  {
   "cell_type": "code",
   "execution_count": 9,
   "id": "b1f05da8",
   "metadata": {},
   "outputs": [
    {
     "name": "stdout",
     "output_type": "stream",
     "text": [
      "F1 Score: 0.990\n",
      "0.9946262823644357\n",
      "O score(conjunto treinamento):  0.9977198697068403\n"
     ]
    }
   ],
   "source": [
    "#Exibição das métricas do modelo de regressão logística\n",
    "from sklearn.metrics import f1_score\n",
    "\n",
    "#Media harmonica\n",
    "print('F1 Score: %.3f' % f1_score(y_test, y_pred))\n",
    "\n",
    "print(model.score(X_test, y_test))\n",
    "print(\"O score(conjunto treinamento): \", model.score(X_train, y_train))"
   ]
  },
  {
   "cell_type": "code",
   "execution_count": 10,
   "id": "3a3c665f",
   "metadata": {},
   "outputs": [],
   "source": [
    "#Segundo estimador, K-Nearest Neighbors(Aprendizado supervisionado)\n",
    "'''Utilizando da definição matemática \"Distância Euclediana\" para encontrar, a medida que um novo dado chega, seus vizinhos\n",
    "mais próximos\n",
    "'''\n",
    "from sklearn.neighbors import KNeighborsRegressor"
   ]
  },
  {
   "cell_type": "code",
   "execution_count": 11,
   "id": "2a8eee5e",
   "metadata": {},
   "outputs": [],
   "source": [
    "#Dividindo(Split data) os dados novamente para os conjuntos de treino/teste(train/test) e validação\n",
    "from sklearn.model_selection import train_test_split\n",
    "\n",
    "X_train, X_test, y_train, y_test = train_test_split(X, y, test_size=0.2, random_state=0)\n",
    "\n",
    "X_train, X_val, y_train, y_val = train_test_split(X_train, y_train, \n",
    "    test_size=0.25, random_state= 0)"
   ]
  },
  {
   "cell_type": "code",
   "execution_count": 12,
   "id": "cd3bfef9",
   "metadata": {},
   "outputs": [
    {
     "name": "stdout",
     "output_type": "stream",
     "text": [
      "0.95 de precisão com um desvio padrão de 0.01\n"
     ]
    }
   ],
   "source": [
    "#Criando e ajustando o modelo KNN\n",
    "from sklearn.model_selection import KFold\n",
    "\n",
    "model = KNeighborsRegressor(n_neighbors=35)\n",
    "model.fit(X_train, y_train)\n",
    "\n",
    "#Medindo o hiperparâmetro K(K = n_neighbors) com a validação cruzada\n",
    "Kfold = KFold(n_splits = 10, shuffle = True, random_state = 0)\n",
    "scores = cross_val_score(model, X, y, cv=Kfold)\n",
    "\n",
    "print(\"%0.2f de precisão com um desvio padrão de %0.2f\" % (scores.mean(), scores.std()))"
   ]
  },
  {
   "cell_type": "code",
   "execution_count": 13,
   "id": "ea61cc9e",
   "metadata": {},
   "outputs": [
    {
     "name": "stdout",
     "output_type": "stream",
     "text": [
      "O score(conjunto teste):  0.9418603563815336\n"
     ]
    }
   ],
   "source": [
    "#Avaliando o ajuste para o conjunto teste\n",
    "print(\"O score(conjunto teste): \", model.score(X_test, y_test))"
   ]
  },
  {
   "cell_type": "code",
   "execution_count": 14,
   "id": "68901e86",
   "metadata": {},
   "outputs": [],
   "source": [
    "#Outra forma de medir o hiperparâmetro K\n",
    "#from sklearn.model_selection import GridSearchCV\n",
    "\n",
    "#parameters = {\"n_neighbors\": range(1, 50)}\n",
    "#gridsearch = GridSearchCV(KNeighborsRegressor(), parameters)\n",
    "#gridsearch.fit(X_train, y_train)"
   ]
  },
  {
   "cell_type": "code",
   "execution_count": 15,
   "id": "a56cde41",
   "metadata": {},
   "outputs": [
    {
     "data": {
      "text/plain": [
       "'\\nAnalisando os dois modelos, mesmo o modelo propietário do estimador KNN alcançando uma boa precisão com o train set,\\na regressão logística alcança uma precisão excelente com dados desconhecidos. Também, as avaliações dos hiperparâmetros\\ndo KNN model dificultam e variam mais do quê a da regressão logística. Ambos modelos trabalham bem, porém há uma razoável\\ndiferença, como já citado acima.\\n'"
      ]
     },
     "execution_count": 15,
     "metadata": {},
     "output_type": "execute_result"
    }
   ],
   "source": [
    "'''\n",
    "Analisando os dois modelos, mesmo o modelo propietário do estimador KNN alcançando uma boa precisão com o train set,\n",
    "a regressão logística alcança uma precisão excelente com dados desconhecidos. Também, as avaliações dos hiperparâmetros\n",
    "do KNN model dificultam e variam mais do quê a da regressão logística. Ambos modelos trabalham bem, porém há uma razoável\n",
    "diferença, como já citado acima.\n",
    "'''"
   ]
  }
 ],
 "metadata": {
  "kernelspec": {
   "display_name": "Python 3",
   "language": "python",
   "name": "python3"
  },
  "language_info": {
   "codemirror_mode": {
    "name": "ipython",
    "version": 3
   },
   "file_extension": ".py",
   "mimetype": "text/x-python",
   "name": "python",
   "nbconvert_exporter": "python",
   "pygments_lexer": "ipython3",
   "version": "3.9.4"
  }
 },
 "nbformat": 4,
 "nbformat_minor": 5
}
